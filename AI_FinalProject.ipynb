{
 "cells": [
  {
   "cell_type": "markdown",
   "metadata": {
    "collapsed": true,
    "pycharm": {
     "name": "#%% md\n"
    }
   },
   "source": [
    "# Import Files"
   ]
  },
  {
   "cell_type": "code",
   "execution_count": 32,
   "metadata": {
    "pycharm": {
     "name": "#%%\n"
    }
   },
   "outputs": [],
   "source": [
    "import numpy as np\n",
    "import pandas as pd\n",
    "import librosa as lb\n",
    "import tensorflow as tf\n",
    "import os\n",
    "import pathlib\n",
    "from keras.utils import to_categorical\n",
    "import matplotlib\n",
    "from matplotlib import pyplot as plt\n",
    "from matplotlib import cm"
   ]
  },
  {
   "cell_type": "markdown",
   "metadata": {
    "pycharm": {
     "name": "#%% md\n"
    }
   },
   "source": [
    "# Import Dataset"
   ]
  },
  {
   "cell_type": "code",
   "source": [
    "if os.path.isdir(\"audio\"):\n",
    "    audio_dataset = pathlib.Path('audio')\n",
    "    # Create list of all audio files for tensorflow\n",
    "    audio_wav = tf.io.gfile.glob(str(audio_dataset) + '/*')\n",
    "else:\n",
    "    exit(\"No audio dataset folder found\")\n",
    "\n",
    "print(audio_wav)"
   ],
   "metadata": {
    "collapsed": false,
    "pycharm": {
     "name": "#%%\n"
    }
   },
   "execution_count": 12,
   "outputs": [
    {
     "name": "stdout",
     "output_type": "stream",
     "text": [
      "['audio\\\\BF001_1PT.wav', 'audio\\\\BF001_2NL.wav', 'audio\\\\BF001_3NT.wav', 'audio\\\\BF001_4PL.wav', 'audio\\\\BF002_1PT.wav', 'audio\\\\BF002_2NL.wav', 'audio\\\\BF002_3NT.wav', 'audio\\\\BF002_4PL.wav', 'audio\\\\BF003_1PT.wav', 'audio\\\\BF003_2NL.wav', 'audio\\\\BF003_3NT.wav', 'audio\\\\BF003_4PL.wav', 'audio\\\\BF004_1PT.wav', 'audio\\\\BF004_2NL.wav', 'audio\\\\BF004_3NT.wav', 'audio\\\\BF004_4PL.wav', 'audio\\\\BF006_1PT.wav', 'audio\\\\BF006_2NL.wav', 'audio\\\\BF006_3NT.wav', 'audio\\\\BF006_4PL.wav', 'audio\\\\BF008_1PT.wav', 'audio\\\\BF008_2NL.wav', 'audio\\\\BF008_3NT.wav', 'audio\\\\BF008_4PL.wav', 'audio\\\\BF013_1PT.wav', 'audio\\\\BF013_2NL.wav', 'audio\\\\BF013_3NT.wav', 'audio\\\\BF013_4PL.wav', 'audio\\\\BF014_1PT.wav', 'audio\\\\BF014_2NL.wav', 'audio\\\\BF014_3NT.wav', 'audio\\\\BF014_4PL.wav', 'audio\\\\BF015_1PT.wav', 'audio\\\\BF015_2NL.wav', 'audio\\\\BF015_3NT.wav', 'audio\\\\BF015_4PL.wav', 'audio\\\\BF016_1PT.wav', 'audio\\\\BF016_2NL.wav', 'audio\\\\BF016_3NT.wav', 'audio\\\\BF016_4PL.wav', 'audio\\\\BF018_1PT.wav', 'audio\\\\BF018_2NL.wav', 'audio\\\\BF018_3NT.wav', 'audio\\\\BF018_4PL.wav', 'audio\\\\BF019_1PT.wav', 'audio\\\\BF019_2NL.wav', 'audio\\\\BF019_3NT.wav', 'audio\\\\BF019_4PL.wav', 'audio\\\\BF020_1PT.wav', 'audio\\\\BF020_2NL.wav', 'audio\\\\BF020_3NT.wav', 'audio\\\\BF020_4PL.wav', 'audio\\\\BF022_1PT.wav', 'audio\\\\BF022_2NL.wav', 'audio\\\\BF022_3NT.wav', 'audio\\\\BF022_4PL.wav', 'audio\\\\BF023_1PT.wav', 'audio\\\\BF023_2NL.wav', 'audio\\\\BF023_3NT.wav', 'audio\\\\BF023_4PL.wav', 'audio\\\\BF024_1PT.wav', 'audio\\\\BF024_2NL.wav', 'audio\\\\BF024_3NT.wav', 'audio\\\\BF024_4PL.wav', 'audio\\\\BF025_1PT.wav', 'audio\\\\BF025_2NL.wav', 'audio\\\\BF025_3NT.wav', 'audio\\\\BF025_4PL.wav', 'audio\\\\BF027_1PT.wav', 'audio\\\\BF027_2NL.wav', 'audio\\\\BF027_3NT.wav', 'audio\\\\BF027_4PL.wav', 'audio\\\\BF028_1PT.wav', 'audio\\\\BF028_2NL.wav', 'audio\\\\BF028_3NT.wav', 'audio\\\\BF028_4PL.wav', 'audio\\\\BF033_1PT.wav', 'audio\\\\BF033_2NL.wav', 'audio\\\\BF033_3NT.wav', 'audio\\\\BF033_4PL.wav', 'audio\\\\BM003_1PT.wav', 'audio\\\\BM003_2NL.wav', 'audio\\\\BM003_3NT.wav', 'audio\\\\BM003_4PL.wav', 'audio\\\\BM004_1PT.wav', 'audio\\\\BM004_2NL.wav', 'audio\\\\BM004_3NT.wav', 'audio\\\\BM004_4PL.wav', 'audio\\\\BM005_1PT.wav', 'audio\\\\BM005_2NL.wav', 'audio\\\\BM005_3NT.wav', 'audio\\\\BM005_4PL.wav', 'audio\\\\BM006_1PT.wav', 'audio\\\\BM006_2NL.wav', 'audio\\\\BM006_3NT.wav', 'audio\\\\BM006_4PL.wav', 'audio\\\\BM007_1PT.wav', 'audio\\\\BM007_2NL.wav', 'audio\\\\BM007_3NT.wav', 'audio\\\\BM007_4PL.wav', 'audio\\\\BM008_1PT.wav', 'audio\\\\BM008_2NL.wav', 'audio\\\\BM008_3NT.wav', 'audio\\\\BM008_4PL.wav', 'audio\\\\BM009_1PT.wav', 'audio\\\\BM009_2NL.wav', 'audio\\\\BM009_3NT.wav', 'audio\\\\BM009_4PL.wav', 'audio\\\\BM010_1PT.wav', 'audio\\\\BM010_2NL.wav', 'audio\\\\BM010_3NT.wav', 'audio\\\\BM010_4PL.wav', 'audio\\\\BM012_1PT.wav', 'audio\\\\BM012_2NL.wav', 'audio\\\\BM012_3NT.wav', 'audio\\\\BM012_4PL.wav', 'audio\\\\BM013_1PT.wav', 'audio\\\\BM013_2NL.wav', 'audio\\\\BM013_3NT.wav', 'audio\\\\BM013_4PL.wav', 'audio\\\\BM014_1PT.wav', 'audio\\\\BM014_2NL.wav', 'audio\\\\BM014_3NT.wav', 'audio\\\\BM014_4PL.wav', 'audio\\\\BM015_1PT.wav', 'audio\\\\BM015_2NL.wav', 'audio\\\\BM015_3NT.wav', 'audio\\\\BM015_4PL.wav', 'audio\\\\BM016_1PT.wav', 'audio\\\\BM016_2NL.wav', 'audio\\\\BM016_3NT.wav', 'audio\\\\BM016_4PL.wav', 'audio\\\\BM017_1PT.wav', 'audio\\\\BM017_2NL.wav', 'audio\\\\BM017_3NT.wav', 'audio\\\\BM017_4PL.wav', 'audio\\\\BM018_1PT.wav', 'audio\\\\BM018_2NL.wav', 'audio\\\\BM018_3NT.wav', 'audio\\\\BM018_4PL.wav', 'audio\\\\BM020_1PT.wav', 'audio\\\\BM020_2NL.wav', 'audio\\\\BM020_3NT.wav', 'audio\\\\BM020_4PL.wav', 'audio\\\\BM021_1PT.wav', 'audio\\\\BM021_2NL.wav', 'audio\\\\BM021_3NT.wav', 'audio\\\\BM021_4PL.wav', 'audio\\\\BM024_1PT.wav', 'audio\\\\BM024_2NL.wav', 'audio\\\\BM024_3NT.wav', 'audio\\\\BM024_4PL.wav', 'audio\\\\BM026_1PT.wav', 'audio\\\\BM026_2NL.wav', 'audio\\\\BM026_3NT.wav', 'audio\\\\BM026_4PL.wav', 'audio\\\\BM027_1PT.wav', 'audio\\\\BM027_2NL.wav', 'audio\\\\BM027_3NT.wav', 'audio\\\\BM027_4PL.wav', 'audio\\\\WF002_1PT.wav', 'audio\\\\WF002_2NL.wav', 'audio\\\\WF002_3NT.wav', 'audio\\\\WF002_4PL.wav', 'audio\\\\WF003_1PT.wav', 'audio\\\\WF003_2NL.wav', 'audio\\\\WF003_3NT.wav', 'audio\\\\WF003_4PL.wav', 'audio\\\\WF005_1PT.wav', 'audio\\\\WF005_2NL.wav', 'audio\\\\WF005_3NT.wav', 'audio\\\\WF005_4PL.wav', 'audio\\\\WF006_1PT.wav', 'audio\\\\WF006_2NL.wav', 'audio\\\\WF006_3NT.wav', 'audio\\\\WF006_4PL.wav', 'audio\\\\WF007_1PT.wav', 'audio\\\\WF007_2NL.wav', 'audio\\\\WF007_3NT.wav', 'audio\\\\WF007_4PL.wav', 'audio\\\\WF009_1PT.wav', 'audio\\\\WF009_2NL.wav', 'audio\\\\WF009_3NT.wav', 'audio\\\\WF009_4PL.wav', 'audio\\\\WF010_1PT.wav', 'audio\\\\WF010_2NL.wav', 'audio\\\\WF010_3NT.wav', 'audio\\\\WF010_4PL.wav', 'audio\\\\WF011_1PT.wav', 'audio\\\\WF011_2NL.wav', 'audio\\\\WF011_3NT.wav', 'audio\\\\WF011_4PL.wav', 'audio\\\\WF012_1PT.wav', 'audio\\\\WF012_2NL.wav', 'audio\\\\WF012_3NT.wav', 'audio\\\\WF012_4PL.wav', 'audio\\\\WF013_1PT.wav', 'audio\\\\WF013_2NL.wav', 'audio\\\\WF013_3NT.wav', 'audio\\\\WF013_4PL.wav', 'audio\\\\WF014_1PT.wav', 'audio\\\\WF014_2NL.wav', 'audio\\\\WF014_3NT.wav', 'audio\\\\WF014_4PL.wav', 'audio\\\\WF016_1PT.wav', 'audio\\\\WF016_2NL.wav', 'audio\\\\WF016_3NT.wav', 'audio\\\\WF016_4PL.wav', 'audio\\\\WF017_1PT.wav', 'audio\\\\WF017_2NL.wav', 'audio\\\\WF017_3NT.wav', 'audio\\\\WF017_4PL.wav', 'audio\\\\WF018_1PT.wav', 'audio\\\\WF018_2NL.wav', 'audio\\\\WF018_3NT.wav', 'audio\\\\WF018_4PL.wav', 'audio\\\\WF019_1PT.wav', 'audio\\\\WF019_2NL.wav', 'audio\\\\WF019_3NT.wav', 'audio\\\\WF019_4PL.wav', 'audio\\\\WF021_1PT.wav', 'audio\\\\WF021_2NL.wav', 'audio\\\\WF021_3NT.wav', 'audio\\\\WF021_4PL.wav', 'audio\\\\WF022_1PT.wav', 'audio\\\\WF022_2NL.wav', 'audio\\\\WF022_3NT.wav', 'audio\\\\WF022_4PL.wav', 'audio\\\\WF023_1PT.wav', 'audio\\\\WF023_2NL.wav', 'audio\\\\WF023_3NT.wav', 'audio\\\\WF023_4PL.wav', 'audio\\\\WF024_1PT.wav', 'audio\\\\WF024_2NL.wav', 'audio\\\\WF024_3NT.wav', 'audio\\\\WF024_4PL.wav', 'audio\\\\WF025_1PT.wav', 'audio\\\\WF025_2NL.wav', 'audio\\\\WF025_3NT.wav', 'audio\\\\WF025_4PL.wav', 'audio\\\\WM001_2NL.wav', 'audio\\\\WM001_3NT.wav', 'audio\\\\WM001_4PL.wav', 'audio\\\\WM001_PT..wav', 'audio\\\\WM002_1PT.wav', 'audio\\\\WM002_2NL.wav', 'audio\\\\WM002_3NT.wav', 'audio\\\\WM002_4PL.wav', 'audio\\\\WM005_1PT.wav', 'audio\\\\WM005_2NL.wav', 'audio\\\\WM005_3NT.wav', 'audio\\\\WM005_4PL.wav', 'audio\\\\WM006_1PT.wav', 'audio\\\\WM006_2NL.wav', 'audio\\\\WM006_3NT.wav', 'audio\\\\WM006_4PL.wav', 'audio\\\\WM007_1PT.wav', 'audio\\\\WM007_2NL.wav', 'audio\\\\WM007_3NT.wav', 'audio\\\\WM007_4PL.wav', 'audio\\\\WM008_1PT.wav', 'audio\\\\WM008_2NL.wav', 'audio\\\\WM008_3NT.wav', 'audio\\\\WM008_4PL.wav', 'audio\\\\WM009_1PT.wav', 'audio\\\\WM009_2NL.wav', 'audio\\\\WM009_3NT.wav', 'audio\\\\WM009_4PL.wav', 'audio\\\\WM011_1PT.wav', 'audio\\\\WM011_2NL.wav', 'audio\\\\WM011_3NT.wav', 'audio\\\\WM011_4PL.wav', 'audio\\\\WM013_1PT.wav', 'audio\\\\WM013_2NL.wav', 'audio\\\\WM013_4PL.wav', 'audio\\\\WM014_1PT.wav', 'audio\\\\WM014_2NL.wav', 'audio\\\\WM014_3NT.wav', 'audio\\\\WM014_4PL.wav', 'audio\\\\WM016_1PT.wav', 'audio\\\\WM016_2NL.wav', 'audio\\\\WM016_3NT.wav', 'audio\\\\WM016_4PL.wav', 'audio\\\\WM017_1PT.wav', 'audio\\\\WM017_2NL.wav', 'audio\\\\WM017_3NT.wav', 'audio\\\\WM017_4PL.wav', 'audio\\\\WM018_1PT.wav', 'audio\\\\WM018_2NL.wav', 'audio\\\\WM018_3NT.wav', 'audio\\\\WM018_4PL.wav', 'audio\\\\WM019_1PT.wav', 'audio\\\\WM019_2NL.wav', 'audio\\\\WM020_1PT.wav', 'audio\\\\WM020_2NL.wav', 'audio\\\\WM020_3NT.wav', 'audio\\\\WM020_4PL.wav', 'audio\\\\WM021_1PT.wav', 'audio\\\\WM021_2NL.wav', 'audio\\\\WM021_3NT.wav', 'audio\\\\WM021_4PL.wav', 'audio\\\\WM022_1PT.wav', 'audio\\\\WM022_2NL.wav', 'audio\\\\WM022_3NT.wav', 'audio\\\\WM022_4PL.wav', 'audio\\\\WM024_1PT.wav', 'audio\\\\WM024_2NL.wav', 'audio\\\\WM024_3NT.wav', 'audio\\\\WM024_4PL.wav', 'audio\\\\WM026_1PT.wav', 'audio\\\\WM026_2NL.wav', 'audio\\\\WM026_3NT.wav', 'audio\\\\WM026_4PL.wav', 'audio\\\\WM027_1PT.wav', 'audio\\\\WM027_2NL.wav', 'audio\\\\WM027_3NT.wav', 'audio\\\\WM027_4PL.wav', 'audio\\\\WM13_3NT..wav', 'audio\\\\WM19_3NT..wav', 'audio\\\\WM19_4PL..wav']\n"
     ]
    }
   ]
  },
  {
   "cell_type": "markdown",
   "source": [
    "# Function Definitions"
   ],
   "metadata": {
    "collapsed": false
   }
  },
  {
   "cell_type": "code",
   "source": [
    "def wav2mfcc(file_path, max_pad_len=20):\n",
    "    wave, sr = lb.core.load(file_path)\n",
    "    wave = wave[::3]\n",
    "    mfcc = lb.feature.mfcc(wave, sr=8000)\n",
    "    pad_width = max_pad_len - mfcc.shape[1]\n",
    "    mfcc = np.pad(mfcc, pad_width=((0, 0), (0, pad_width)), mode='constant')\n",
    "    return mfcc\n",
    "\n",
    "def get_data():\n",
    "\n",
    "    labels = []\n",
    "    mfccs = []\n",
    "\n",
    "    for f in os.listdir('./recordings'):\n",
    "        if f.endswith('.wav'):\n",
    "            # MFCC\n",
    "            mfccs.append(wav2mfcc('./recordings/' + f))\n",
    "\n",
    "            # List of labels\n",
    "            label = f.split('_')[0]\n",
    "            labels.append(label)\n",
    "\n",
    "    return np.asarray(mfccs), to_categorical(labels)\n",
    "\n"
   ],
   "metadata": {
    "collapsed": false,
    "pycharm": {
     "name": "#%%\n"
    }
   },
   "execution_count": 41,
   "outputs": []
  },
  {
   "cell_type": "markdown",
   "source": [
    "# Audio Processing"
   ],
   "metadata": {
    "collapsed": false,
    "pycharm": {
     "name": "#%% md\n"
    }
   }
  },
  {
   "cell_type": "code",
   "execution_count": 53,
   "outputs": [
    {
     "name": "stdout",
     "output_type": "stream",
     "text": [
      "audio\\BF001_1PT.wav\n",
      "audio\\BF001_2NL.wav\n",
      "audio\\BF001_3NT.wav\n",
      "audio\\BF001_4PL.wav\n",
      "audio\\BF002_1PT.wav\n",
      "audio\\BF002_2NL.wav\n",
      "audio\\BF002_3NT.wav\n",
      "audio\\BF002_4PL.wav\n",
      "audio\\BF003_1PT.wav\n",
      "audio\\BF003_2NL.wav\n",
      "audio\\BF003_3NT.wav\n",
      "audio\\BF003_4PL.wav\n",
      "audio\\BF004_1PT.wav\n",
      "audio\\BF004_2NL.wav\n",
      "audio\\BF004_3NT.wav\n",
      "audio\\BF004_4PL.wav\n",
      "audio\\BF006_1PT.wav\n",
      "audio\\BF006_2NL.wav\n",
      "audio\\BF006_3NT.wav\n",
      "audio\\BF006_4PL.wav\n",
      "audio\\BF008_1PT.wav\n",
      "audio\\BF008_2NL.wav\n",
      "audio\\BF008_3NT.wav\n",
      "audio\\BF008_4PL.wav\n",
      "audio\\BF013_1PT.wav\n",
      "audio\\BF013_2NL.wav\n"
     ]
    },
    {
     "ename": "KeyboardInterrupt",
     "evalue": "",
     "output_type": "error",
     "traceback": [
      "\u001B[1;31m---------------------------------------------------------------------------\u001B[0m",
      "\u001B[1;31mKeyboardInterrupt\u001B[0m                         Traceback (most recent call last)",
      "\u001B[1;32m<ipython-input-53-5f54565f0ed8>\u001B[0m in \u001B[0;36m<module>\u001B[1;34m\u001B[0m\n\u001B[0;32m      2\u001B[0m \u001B[1;33m\u001B[0m\u001B[0m\n\u001B[0;32m      3\u001B[0m \u001B[1;32mfor\u001B[0m \u001B[0maudio_path\u001B[0m \u001B[1;32min\u001B[0m \u001B[0maudio_wav\u001B[0m\u001B[1;33m:\u001B[0m\u001B[1;33m\u001B[0m\u001B[1;33m\u001B[0m\u001B[0m\n\u001B[1;32m----> 4\u001B[1;33m     \u001B[0mmfcc\u001B[0m\u001B[1;33m.\u001B[0m\u001B[0mappend\u001B[0m\u001B[1;33m(\u001B[0m\u001B[0mwav2mfcc\u001B[0m\u001B[1;33m(\u001B[0m\u001B[0maudio_path\u001B[0m\u001B[1;33m,\u001B[0m \u001B[1;36m600\u001B[0m\u001B[1;33m)\u001B[0m\u001B[1;33m)\u001B[0m\u001B[1;33m\u001B[0m\u001B[1;33m\u001B[0m\u001B[0m\n\u001B[0m\u001B[0;32m      5\u001B[0m     \u001B[0mprint\u001B[0m\u001B[1;33m(\u001B[0m\u001B[0maudio_path\u001B[0m\u001B[1;33m)\u001B[0m\u001B[1;33m\u001B[0m\u001B[1;33m\u001B[0m\u001B[0m\n\u001B[0;32m      6\u001B[0m \u001B[1;33m\u001B[0m\u001B[0m\n",
      "\u001B[1;32m<ipython-input-41-1575d92f74a1>\u001B[0m in \u001B[0;36mwav2mfcc\u001B[1;34m(file_path, max_pad_len)\u001B[0m\n\u001B[0;32m      1\u001B[0m \u001B[1;32mdef\u001B[0m \u001B[0mwav2mfcc\u001B[0m\u001B[1;33m(\u001B[0m\u001B[0mfile_path\u001B[0m\u001B[1;33m,\u001B[0m \u001B[0mmax_pad_len\u001B[0m\u001B[1;33m=\u001B[0m\u001B[1;36m20\u001B[0m\u001B[1;33m)\u001B[0m\u001B[1;33m:\u001B[0m\u001B[1;33m\u001B[0m\u001B[1;33m\u001B[0m\u001B[0m\n\u001B[1;32m----> 2\u001B[1;33m     \u001B[0mwave\u001B[0m\u001B[1;33m,\u001B[0m \u001B[0msr\u001B[0m \u001B[1;33m=\u001B[0m \u001B[0mlb\u001B[0m\u001B[1;33m.\u001B[0m\u001B[0mcore\u001B[0m\u001B[1;33m.\u001B[0m\u001B[0mload\u001B[0m\u001B[1;33m(\u001B[0m\u001B[0mfile_path\u001B[0m\u001B[1;33m)\u001B[0m\u001B[1;33m\u001B[0m\u001B[1;33m\u001B[0m\u001B[0m\n\u001B[0m\u001B[0;32m      3\u001B[0m     \u001B[0mwave\u001B[0m \u001B[1;33m=\u001B[0m \u001B[0mwave\u001B[0m\u001B[1;33m[\u001B[0m\u001B[1;33m:\u001B[0m\u001B[1;33m:\u001B[0m\u001B[1;36m3\u001B[0m\u001B[1;33m]\u001B[0m\u001B[1;33m\u001B[0m\u001B[1;33m\u001B[0m\u001B[0m\n\u001B[0;32m      4\u001B[0m     \u001B[0mmfcc\u001B[0m \u001B[1;33m=\u001B[0m \u001B[0mlb\u001B[0m\u001B[1;33m.\u001B[0m\u001B[0mfeature\u001B[0m\u001B[1;33m.\u001B[0m\u001B[0mmfcc\u001B[0m\u001B[1;33m(\u001B[0m\u001B[0mwave\u001B[0m\u001B[1;33m,\u001B[0m \u001B[0msr\u001B[0m\u001B[1;33m=\u001B[0m\u001B[1;36m8000\u001B[0m\u001B[1;33m)\u001B[0m\u001B[1;33m\u001B[0m\u001B[1;33m\u001B[0m\u001B[0m\n\u001B[0;32m      5\u001B[0m     \u001B[0mpad_width\u001B[0m \u001B[1;33m=\u001B[0m \u001B[0mmax_pad_len\u001B[0m \u001B[1;33m-\u001B[0m \u001B[0mmfcc\u001B[0m\u001B[1;33m.\u001B[0m\u001B[0mshape\u001B[0m\u001B[1;33m[\u001B[0m\u001B[1;36m1\u001B[0m\u001B[1;33m]\u001B[0m\u001B[1;33m\u001B[0m\u001B[1;33m\u001B[0m\u001B[0m\n",
      "\u001B[1;32mc:\\users\\nikhil\\appdata\\local\\programs\\python\\python38\\lib\\site-packages\\librosa\\core\\audio.py\u001B[0m in \u001B[0;36mload\u001B[1;34m(path, sr, mono, offset, duration, dtype, res_type)\u001B[0m\n\u001B[0;32m    170\u001B[0m \u001B[1;33m\u001B[0m\u001B[0m\n\u001B[0;32m    171\u001B[0m     \u001B[1;32mif\u001B[0m \u001B[0msr\u001B[0m \u001B[1;32mis\u001B[0m \u001B[1;32mnot\u001B[0m \u001B[1;32mNone\u001B[0m\u001B[1;33m:\u001B[0m\u001B[1;33m\u001B[0m\u001B[1;33m\u001B[0m\u001B[0m\n\u001B[1;32m--> 172\u001B[1;33m         \u001B[0my\u001B[0m \u001B[1;33m=\u001B[0m \u001B[0mresample\u001B[0m\u001B[1;33m(\u001B[0m\u001B[0my\u001B[0m\u001B[1;33m,\u001B[0m \u001B[0msr_native\u001B[0m\u001B[1;33m,\u001B[0m \u001B[0msr\u001B[0m\u001B[1;33m,\u001B[0m \u001B[0mres_type\u001B[0m\u001B[1;33m=\u001B[0m\u001B[0mres_type\u001B[0m\u001B[1;33m)\u001B[0m\u001B[1;33m\u001B[0m\u001B[1;33m\u001B[0m\u001B[0m\n\u001B[0m\u001B[0;32m    173\u001B[0m \u001B[1;33m\u001B[0m\u001B[0m\n\u001B[0;32m    174\u001B[0m     \u001B[1;32melse\u001B[0m\u001B[1;33m:\u001B[0m\u001B[1;33m\u001B[0m\u001B[1;33m\u001B[0m\u001B[0m\n",
      "\u001B[1;32mc:\\users\\nikhil\\appdata\\local\\programs\\python\\python38\\lib\\site-packages\\librosa\\core\\audio.py\u001B[0m in \u001B[0;36mresample\u001B[1;34m(y, orig_sr, target_sr, res_type, fix, scale, **kwargs)\u001B[0m\n\u001B[0;32m    582\u001B[0m         \u001B[0my_hat\u001B[0m \u001B[1;33m=\u001B[0m \u001B[0msamplerate\u001B[0m\u001B[1;33m.\u001B[0m\u001B[0mresample\u001B[0m\u001B[1;33m(\u001B[0m\u001B[0my\u001B[0m\u001B[1;33m.\u001B[0m\u001B[0mT\u001B[0m\u001B[1;33m,\u001B[0m \u001B[0mratio\u001B[0m\u001B[1;33m,\u001B[0m \u001B[0mconverter_type\u001B[0m\u001B[1;33m=\u001B[0m\u001B[0mres_type\u001B[0m\u001B[1;33m)\u001B[0m\u001B[1;33m.\u001B[0m\u001B[0mT\u001B[0m\u001B[1;33m\u001B[0m\u001B[1;33m\u001B[0m\u001B[0m\n\u001B[0;32m    583\u001B[0m     \u001B[1;32melse\u001B[0m\u001B[1;33m:\u001B[0m\u001B[1;33m\u001B[0m\u001B[1;33m\u001B[0m\u001B[0m\n\u001B[1;32m--> 584\u001B[1;33m         \u001B[0my_hat\u001B[0m \u001B[1;33m=\u001B[0m \u001B[0mresampy\u001B[0m\u001B[1;33m.\u001B[0m\u001B[0mresample\u001B[0m\u001B[1;33m(\u001B[0m\u001B[0my\u001B[0m\u001B[1;33m,\u001B[0m \u001B[0morig_sr\u001B[0m\u001B[1;33m,\u001B[0m \u001B[0mtarget_sr\u001B[0m\u001B[1;33m,\u001B[0m \u001B[0mfilter\u001B[0m\u001B[1;33m=\u001B[0m\u001B[0mres_type\u001B[0m\u001B[1;33m,\u001B[0m \u001B[0maxis\u001B[0m\u001B[1;33m=\u001B[0m\u001B[1;33m-\u001B[0m\u001B[1;36m1\u001B[0m\u001B[1;33m)\u001B[0m\u001B[1;33m\u001B[0m\u001B[1;33m\u001B[0m\u001B[0m\n\u001B[0m\u001B[0;32m    585\u001B[0m \u001B[1;33m\u001B[0m\u001B[0m\n\u001B[0;32m    586\u001B[0m     \u001B[1;32mif\u001B[0m \u001B[0mfix\u001B[0m\u001B[1;33m:\u001B[0m\u001B[1;33m\u001B[0m\u001B[1;33m\u001B[0m\u001B[0m\n",
      "\u001B[1;32mc:\\users\\nikhil\\appdata\\local\\programs\\python\\python38\\lib\\site-packages\\resampy\\core.py\u001B[0m in \u001B[0;36mresample\u001B[1;34m(x, sr_orig, sr_new, axis, filter, **kwargs)\u001B[0m\n\u001B[0;32m    118\u001B[0m     \u001B[0mx_2d\u001B[0m \u001B[1;33m=\u001B[0m \u001B[0mx\u001B[0m\u001B[1;33m.\u001B[0m\u001B[0mswapaxes\u001B[0m\u001B[1;33m(\u001B[0m\u001B[1;36m0\u001B[0m\u001B[1;33m,\u001B[0m \u001B[0maxis\u001B[0m\u001B[1;33m)\u001B[0m\u001B[1;33m.\u001B[0m\u001B[0mreshape\u001B[0m\u001B[1;33m(\u001B[0m\u001B[1;33m(\u001B[0m\u001B[0mx\u001B[0m\u001B[1;33m.\u001B[0m\u001B[0mshape\u001B[0m\u001B[1;33m[\u001B[0m\u001B[0maxis\u001B[0m\u001B[1;33m]\u001B[0m\u001B[1;33m,\u001B[0m \u001B[1;33m-\u001B[0m\u001B[1;36m1\u001B[0m\u001B[1;33m)\u001B[0m\u001B[1;33m)\u001B[0m\u001B[1;33m\u001B[0m\u001B[1;33m\u001B[0m\u001B[0m\n\u001B[0;32m    119\u001B[0m     \u001B[0my_2d\u001B[0m \u001B[1;33m=\u001B[0m \u001B[0my\u001B[0m\u001B[1;33m.\u001B[0m\u001B[0mswapaxes\u001B[0m\u001B[1;33m(\u001B[0m\u001B[1;36m0\u001B[0m\u001B[1;33m,\u001B[0m \u001B[0maxis\u001B[0m\u001B[1;33m)\u001B[0m\u001B[1;33m.\u001B[0m\u001B[0mreshape\u001B[0m\u001B[1;33m(\u001B[0m\u001B[1;33m(\u001B[0m\u001B[0my\u001B[0m\u001B[1;33m.\u001B[0m\u001B[0mshape\u001B[0m\u001B[1;33m[\u001B[0m\u001B[0maxis\u001B[0m\u001B[1;33m]\u001B[0m\u001B[1;33m,\u001B[0m \u001B[1;33m-\u001B[0m\u001B[1;36m1\u001B[0m\u001B[1;33m)\u001B[0m\u001B[1;33m)\u001B[0m\u001B[1;33m\u001B[0m\u001B[1;33m\u001B[0m\u001B[0m\n\u001B[1;32m--> 120\u001B[1;33m     \u001B[0mresample_f\u001B[0m\u001B[1;33m(\u001B[0m\u001B[0mx_2d\u001B[0m\u001B[1;33m,\u001B[0m \u001B[0my_2d\u001B[0m\u001B[1;33m,\u001B[0m \u001B[0msample_ratio\u001B[0m\u001B[1;33m,\u001B[0m \u001B[0minterp_win\u001B[0m\u001B[1;33m,\u001B[0m \u001B[0minterp_delta\u001B[0m\u001B[1;33m,\u001B[0m \u001B[0mprecision\u001B[0m\u001B[1;33m)\u001B[0m\u001B[1;33m\u001B[0m\u001B[1;33m\u001B[0m\u001B[0m\n\u001B[0m\u001B[0;32m    121\u001B[0m \u001B[1;33m\u001B[0m\u001B[0m\n\u001B[0;32m    122\u001B[0m     \u001B[1;32mreturn\u001B[0m \u001B[0my\u001B[0m\u001B[1;33m\u001B[0m\u001B[1;33m\u001B[0m\u001B[0m\n",
      "\u001B[1;31mKeyboardInterrupt\u001B[0m: "
     ]
    }
   ],
   "source": [
    "mfcc = []\n",
    "\n",
    "for audio_path in audio_wav:\n",
    "    mfcc.append(wav2mfcc(audio_path, 600))\n",
    "    print(audio_path)\n",
    "\n",
    "plt.imshow(mfcc[0], aspect='auto', cmap=cm.viridis)\n",
    "plt.show()\n",
    "print(\"FINISHED\")"
   ],
   "metadata": {
    "collapsed": false,
    "pycharm": {
     "name": "#%%\n"
    }
   }
  },
  {
   "cell_type": "markdown",
   "source": [],
   "metadata": {
    "collapsed": false
   }
  },
  {
   "cell_type": "markdown",
   "source": [
    "# Results"
   ],
   "metadata": {
    "collapsed": false
   }
  },
  {
   "cell_type": "code",
   "execution_count": null,
   "outputs": [],
   "source": [],
   "metadata": {
    "collapsed": false,
    "pycharm": {
     "name": "#%%\n"
    }
   }
  }
 ],
 "metadata": {
  "kernelspec": {
   "display_name": "Python 3",
   "language": "python",
   "name": "python3"
  },
  "language_info": {
   "codemirror_mode": {
    "name": "ipython",
    "version": 3
   },
   "file_extension": ".py",
   "mimetype": "text/x-python",
   "name": "python",
   "nbconvert_exporter": "python",
   "pygments_lexer": "ipython3",
   "version": "3.8.2"
  }
 },
 "nbformat": 4,
 "nbformat_minor": 1
}