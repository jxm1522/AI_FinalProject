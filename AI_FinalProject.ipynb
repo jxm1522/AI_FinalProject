{
 "cells": [
  {
   "cell_type": "markdown",
   "metadata": {
    "collapsed": true,
    "pycharm": {
     "name": "#%% md\n"
    }
   },
   "source": [
    "# Import Files"
   ]
  },
  {
   "cell_type": "code",
   "execution_count": 41,
   "metadata": {
    "pycharm": {
     "name": "#%%\n"
    }
   },
   "outputs": [],
   "source": [
    "import os\n",
    "import math\n",
    "import numpy as np\n",
    "import pandas as pd\n",
    "import librosa as lb\n",
    "import tensorflow as tf"
   ]
  },
  {
   "cell_type": "markdown",
   "metadata": {
    "pycharm": {
     "name": "#%% md\n"
    }
   },
   "source": [
    "# Import Dataset"
   ]
  },
  {
   "cell_type": "code",
   "source": [
    "audio_dataset = []\n",
    "if os.path.isdir(\"audio\"):\n",
    "    # Create a list of all audio files for tensorflow\n",
    "    audio_dataset = os.listdir(path='audio/')\n",
    "else:\n",
    "    exit(\"No audio dataset folder found\")"
   ],
   "metadata": {
    "collapsed": false,
    "pycharm": {
     "name": "#%%\n"
    }
   },
   "execution_count": 42,
   "outputs": []
  },
  {
   "cell_type": "markdown",
   "source": [
    "# Split Dataset"
   ],
   "metadata": {
    "collapsed": false
   }
  },
  {
   "cell_type": "code",
   "execution_count": 43,
   "outputs": [
    {
     "name": "stdout",
     "output_type": "stream",
     "text": [
      "Training length: 256\n",
      "Validation length: 64\n"
     ]
    }
   ],
   "source": [
    "seed = 42\n",
    "training_percent = .80\n",
    "validation_percent = 1-training_percent\n",
    "# split dataset into male and female\n",
    "audio_male = []\n",
    "audio_female = []\n",
    "for names in audio_dataset:\n",
    "    if names[1] == 'M':\n",
    "        audio_male.append(names)\n",
    "    elif names[1] == 'F':\n",
    "        audio_female.append(names)\n",
    "\n",
    "# Take a percentage of the male and female dataset for training and validation\n",
    "# Makes sure that there's an equal number of males and females in training and validation\n",
    "audio_male_shuffled = tf.random.shuffle(audio_male)\n",
    "audio_female_shuffled = tf.random.shuffle(audio_female)\n",
    "training_unshuffled = tf.concat([audio_male_shuffled[:int(training_percent*160)], audio_female_shuffled[:int(training_percent*160)]], 0)\n",
    "training = tf.random.shuffle(training_unshuffled)\n",
    "validation = tf.concat([audio_male_shuffled[math.floor(-validation_percent*160):], audio_female_shuffled[math.floor(-validation_percent*160):]], 0)\n",
    "print(\"Training length: \" + str(len(training)))\n",
    "print(\"Validation length: \" + str(len(validation)))\n"
   ],
   "metadata": {
    "collapsed": false,
    "pycharm": {
     "name": "#%%\n"
    }
   }
  },
  {
   "cell_type": "markdown",
   "source": [
    "# Audio Processing"
   ],
   "metadata": {
    "collapsed": false
   }
  },
  {
   "cell_type": "code",
   "source": [],
   "metadata": {
    "collapsed": false,
    "pycharm": {
     "name": "#%%\n"
    }
   },
   "execution_count": 43,
   "outputs": []
  },
  {
   "cell_type": "markdown",
   "source": [
    "# Start Training"
   ],
   "metadata": {
    "collapsed": false,
    "pycharm": {
     "name": "#%% md\n"
    }
   }
  },
  {
   "cell_type": "code",
   "execution_count": 43,
   "outputs": [],
   "source": [],
   "metadata": {
    "collapsed": false,
    "pycharm": {
     "name": "#%%\n"
    }
   }
  },
  {
   "cell_type": "markdown",
   "source": [
    "# Results\n"
   ],
   "metadata": {
    "collapsed": false
   }
  }
 ],
 "metadata": {
  "kernelspec": {
   "display_name": "Python 3",
   "language": "python",
   "name": "python3"
  },
  "language_info": {
   "codemirror_mode": {
    "name": "ipython",
    "version": 3
   },
   "file_extension": ".py",
   "mimetype": "text/x-python",
   "name": "python",
   "nbconvert_exporter": "python",
   "pygments_lexer": "ipython3",
   "version": "3.8.2"
  }
 },
 "nbformat": 4,
 "nbformat_minor": 1
}